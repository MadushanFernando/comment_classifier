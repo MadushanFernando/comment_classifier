{
 "cells": [
  {
   "cell_type": "markdown",
   "id": "b53d4e73-8f44-449b-80e5-a21334b6cb22",
   "metadata": {},
   "source": [
    "loading test data file"
   ]
  },
  {
   "cell_type": "code",
   "execution_count": 1,
   "id": "886154a7-aae2-4a33-a96b-27ccbb63d6f6",
   "metadata": {},
   "outputs": [],
   "source": [
    "import csv\n",
    "with open('new_data.csv') as readFile:\n",
    "    reader = csv.reader(readFile)\n",
    "    next(reader)"
   ]
  },
  {
   "cell_type": "markdown",
   "id": "b2c1d4d2-7a88-40fa-9099-781c2365f243",
   "metadata": {},
   "source": [
    "creating the bag of words"
   ]
  },
  {
   "cell_type": "code",
   "execution_count": null,
   "id": "8178a208-388d-40cd-82aa-8a35f44eb35c",
   "metadata": {},
   "outputs": [],
   "source": []
  }
 ],
 "metadata": {
  "kernelspec": {
   "display_name": "Python 3",
   "language": "python",
   "name": "python3"
  },
  "language_info": {
   "codemirror_mode": {
    "name": "ipython",
    "version": 3
   },
   "file_extension": ".py",
   "mimetype": "text/x-python",
   "name": "python",
   "nbconvert_exporter": "python",
   "pygments_lexer": "ipython3",
   "version": "3.9.4"
  }
 },
 "nbformat": 4,
 "nbformat_minor": 5
}
